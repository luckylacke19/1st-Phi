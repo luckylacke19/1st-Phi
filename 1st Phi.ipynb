{
  "metadata": {
    "language_info": {
      "codemirror_mode": {
        "name": "python",
        "version": 3
      },
      "file_extension": ".py",
      "mimetype": "text/x-python",
      "name": "python",
      "nbconvert_exporter": "python",
      "pygments_lexer": "ipython3",
      "version": "3.8"
    },
    "kernelspec": {
      "name": "python",
      "display_name": "Pyolite",
      "language": "python"
    }
  },
  "nbformat_minor": 4,
  "nbformat": 4,
  "cells": [
    {
      "cell_type": "markdown",
      "source": "# My Jupyter Notebook on IBM Watson Studio",
      "metadata": {
        "tags": []
      }
    },
    {
      "cell_type": "markdown",
      "source": "**Le Hong Phi** <br>officer",
      "metadata": {}
    },
    {
      "cell_type": "markdown",
      "source": "*I am interested in data science because it helps me understand more about the world*",
      "metadata": {}
    },
    {
      "cell_type": "markdown",
      "source": "### I will do a simple math",
      "metadata": {}
    },
    {
      "cell_type": "code",
      "source": "1+1",
      "metadata": {},
      "execution_count": null,
      "outputs": []
    },
    {
      "cell_type": "markdown",
      "source": "<hr>horizontal\n<ol>\n<li>I</li>\n<li>Need</li>\n<li>A</li>\n<li>Girl</li>\n</ol>\n\n<table style=\"width:20%\">\n<tr>\n<th>NAME</th>\n<th>ADRRESS</th>\n<th>SALARY</th>\n</tr>\n    \n<tr>\n<td>Phi1</td>\n<td>blank</td>\n<td>10000</td>\n</tr>\n    \n<tr>\n<td>Phi2</td>\n<td>Blank2</td>\n<td>4000</td>\n</tr>\n</table>",
      "metadata": {}
    },
    {
      "cell_type": "code",
      "source": "",
      "metadata": {},
      "execution_count": null,
      "outputs": []
    }
  ]
}